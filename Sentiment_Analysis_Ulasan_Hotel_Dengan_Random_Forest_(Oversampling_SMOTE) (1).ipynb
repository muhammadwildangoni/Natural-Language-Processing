{
  "nbformat": 4,
  "nbformat_minor": 0,
  "metadata": {
    "colab": {
      "provenance": []
    },
    "kernelspec": {
      "name": "python3",
      "display_name": "Python 3"
    },
    "language_info": {
      "name": "python"
    }
  },
  "cells": [
    {
      "cell_type": "markdown",
      "source": [
        "# Sentiment Analysis Ulasan Hotel Dengan Random Forest (Oversampling :SMOTE)"
      ],
      "metadata": {
        "id": "1PZEcf08xNJ0"
      }
    },
    {
      "cell_type": "code",
      "source": [
        "# Install Package Imblearn untuk Oversampling atau Undersampling\n",
        "!pip install imbalanced-learn"
      ],
      "metadata": {
        "colab": {
          "base_uri": "https://localhost:8080/"
        },
        "id": "zGMCsQWOgHDB",
        "outputId": "03425e9c-8dd0-4416-d684-26d30aaecccb"
      },
      "execution_count": null,
      "outputs": [
        {
          "output_type": "stream",
          "name": "stdout",
          "text": [
            "Looking in indexes: https://pypi.org/simple, https://us-python.pkg.dev/colab-wheels/public/simple/\n",
            "Requirement already satisfied: imbalanced-learn in /usr/local/lib/python3.10/dist-packages (0.10.1)\n",
            "Requirement already satisfied: numpy>=1.17.3 in /usr/local/lib/python3.10/dist-packages (from imbalanced-learn) (1.22.4)\n",
            "Requirement already satisfied: scipy>=1.3.2 in /usr/local/lib/python3.10/dist-packages (from imbalanced-learn) (1.10.1)\n",
            "Requirement already satisfied: scikit-learn>=1.0.2 in /usr/local/lib/python3.10/dist-packages (from imbalanced-learn) (1.2.2)\n",
            "Requirement already satisfied: joblib>=1.1.1 in /usr/local/lib/python3.10/dist-packages (from imbalanced-learn) (1.2.0)\n",
            "Requirement already satisfied: threadpoolctl>=2.0.0 in /usr/local/lib/python3.10/dist-packages (from imbalanced-learn) (3.1.0)\n"
          ]
        }
      ]
    },
    {
      "cell_type": "code",
      "execution_count": null,
      "metadata": {
        "id": "_VBtIEyycH2p"
      },
      "outputs": [],
      "source": [
        "# Import Library\n",
        "import pandas as pd\n",
        "import numpy as np\n",
        "\n",
        "from sklearn.model_selection import train_test_split\n",
        "from sklearn.feature_extraction.text import TfidfVectorizer\n",
        "from sklearn.svm import SVC\n",
        "from sklearn.ensemble import RandomForestClassifier\n",
        "from sklearn.neighbors import KNeighborsClassifier\n",
        "from sklearn.ensemble import GradientBoostingClassifier\n",
        "from sklearn.naive_bayes import MultinomialNB, ComplementNB\n",
        "from sklearn.tree import DecisionTreeClassifier\n",
        "from sklearn.metrics import confusion_matrix, accuracy_score, precision_score, recall_score, f1_score, classification_report\n",
        "\n",
        "from imblearn.over_sampling import SMOTE, ADASYN"
      ]
    },
    {
      "cell_type": "code",
      "source": [
        "# Import data\n",
        "data = pd.read_excel('hasil_preprocessing_before_covid.xlsx')\n",
        "data"
      ],
      "metadata": {
        "colab": {
          "base_uri": "https://localhost:8080/",
          "height": 1000
        },
        "id": "uP6SOCeUdk3g",
        "outputId": "9d236511-ed8e-4c9f-f8d4-4c84856d3aab"
      },
      "execution_count": null,
      "outputs": [
        {
          "output_type": "execute_result",
          "data": {
            "text/plain": [
              "      Unnamed: 0                                             Ulasan Sentiment  \\\n",
              "0              0  Fasilitas hotel bagus, kamar mewah, protokol k...  Positive   \n",
              "1              1  Makanan enak dan harga sangat terjangkau, mantap?  Positive   \n",
              "2              2  Pelayanan hotel sangat baik, kebersihan sangat...  Positive   \n",
              "3              3  Nyaman sekali menginap walaupun hanya satu har...  Positive   \n",
              "4              4  Kamarnya luas nyaman dan bersih, pemandangan h...  Positive   \n",
              "...          ...                                                ...       ...   \n",
              "2304        2317  Desain hotel sangat bagus tapi bau di dalam ho...  Positive   \n",
              "2305        2318                      Stafnya kurang profesional. 👎  Positive   \n",
              "2306        2319  Suasananya enak buat keluarga. Staf hotel oke ...  Positive   \n",
              "2307        2320  Ruangan itu luas, staf sangat membantu, taman ...  Positive   \n",
              "2308        2321  Kami tinggal di sini dengan dua bayi kami ... ...  Negative   \n",
              "\n",
              "      Positive Probability  Negative Probability  \\\n",
              "0                 0.300709              0.209502   \n",
              "1                 0.304822              0.171673   \n",
              "2                 0.273015              0.174779   \n",
              "3                 0.319150              0.160811   \n",
              "4                 0.302786              0.188203   \n",
              "...                    ...                   ...   \n",
              "2304              0.230125              0.215672   \n",
              "2305              0.307536              0.142843   \n",
              "2306              0.282238              0.200469   \n",
              "2307              0.277079              0.183748   \n",
              "2308              0.215482              0.273641   \n",
              "\n",
              "                                                  clean  \\\n",
              "0     Fasilitas hotel bagus kamar mewah protokol kov...   \n",
              "1       Makanan enak dan harga sangat terjangkau mantap   \n",
              "2     Pelayanan hotel sangat baik kebersihan sangat ...   \n",
              "3     Nyaman sekali menginap walaupun hanya satu har...   \n",
              "4     Kamarnya luas nyaman dan bersih pemandangan ho...   \n",
              "...                                                 ...   \n",
              "2304  Desain hotel sangat bagus tapi bau di dalam ho...   \n",
              "2305                       Stafnya kurang profesional 👎   \n",
              "2306  Suasananya enak buat keluarga Staf hotel oke s...   \n",
              "2307  Ruangan itu luas staf sangat membantu taman be...   \n",
              "2308  Kami tinggal di sini dengan dua bayi kami dan ...   \n",
              "\n",
              "                             Case_Folding_&_Clean_Emoji  \\\n",
              "0     fasilitas hotel bagus kamar mewah protokol kov...   \n",
              "1       makanan enak dan harga sangat terjangkau mantap   \n",
              "2     pelayanan hotel sangat baik kebersihan sangat ...   \n",
              "3     nyaman sekali menginap walaupun hanya satu har...   \n",
              "4     kamarnya luas nyaman dan bersih pemandangan ho...   \n",
              "...                                                 ...   \n",
              "2304  desain hotel sangat bagus tapi bau di dalam ho...   \n",
              "2305                        stafnya kurang profesional    \n",
              "2306  suasananya enak buat keluarga staf hotel oke s...   \n",
              "2307  ruangan itu luas staf sangat membantu taman be...   \n",
              "2308  kami tinggal di sini dengan dua bayi kami dan ...   \n",
              "\n",
              "                                             slang_word  \\\n",
              "0     fasilitas hotel bagus kamar mewah protokol kov...   \n",
              "1      makanan enak dan harga sangat terjangkau mantap    \n",
              "2     pelayanan hotel sangat baik kebersihan sangat ...   \n",
              "3     nyaman sekali menginap walaupun hanya satu har...   \n",
              "4     kamarnya luas nyaman dan bersih pemandangan ho...   \n",
              "...                                                 ...   \n",
              "2304  desain hotel sangat bagus tapi bau di dalam ho...   \n",
              "2305                        stafnya kurang profesional    \n",
              "2306  suasananya enak buat keluarga staf hotel oke s...   \n",
              "2307  ruangan itu luas staf sangat membantu taman be...   \n",
              "2308  kami tinggal di sini dengan dua bayi kami dan ...   \n",
              "\n",
              "                                             Tokenizing  \\\n",
              "0     ['fasilitas', 'hotel', 'bagus', 'kamar', 'mewa...   \n",
              "1     ['makanan', 'enak', 'dan', 'harga', 'sangat', ...   \n",
              "2     ['pelayanan', 'hotel', 'sangat', 'baik', 'kebe...   \n",
              "3     ['nyaman', 'sekali', 'menginap', 'walaupun', '...   \n",
              "4     ['kamarnya', 'luas', 'nyaman', 'dan', 'bersih'...   \n",
              "...                                                 ...   \n",
              "2304  ['desain', 'hotel', 'sangat', 'bagus', 'tapi',...   \n",
              "2305               ['stafnya', 'kurang', 'profesional']   \n",
              "2306  ['suasananya', 'enak', 'buat', 'keluarga', 'st...   \n",
              "2307  ['ruangan', 'itu', 'luas', 'staf', 'sangat', '...   \n",
              "2308  ['kami', 'tinggal', 'di', 'sini', 'dengan', 'd...   \n",
              "\n",
              "                                              Filtering  \\\n",
              "0     ['fasilitas', 'hotel', 'bagus', 'kamar', 'mewa...   \n",
              "1     ['makanan', 'enak', 'harga', 'terjangkau', 'ma...   \n",
              "2                  ['pelayanan', 'hotel', 'kebersihan']   \n",
              "3     ['nyaman', 'menginap', 'pelayanannya', 'memuas...   \n",
              "4     ['kamarnya', 'luas', 'nyaman', 'bersih', 'pema...   \n",
              "...                                                 ...   \n",
              "2304  ['desain', 'hotel', 'bagus', 'bau', 'hotel', '...   \n",
              "2305                         ['stafnya', 'profesional']   \n",
              "2306  ['suasananya', 'enak', 'keluarga', 'staf', 'ho...   \n",
              "2307  ['ruangan', 'luas', 'staf', 'membantu', 'taman...   \n",
              "2308  ['tinggal', 'bayi', 'menyadari', 'hotel', 'mem...   \n",
              "\n",
              "                                               Stemming  \n",
              "0     fasilitas hotel bagus kamar mewah protokol kov...  \n",
              "1                       makan enak harga jangkau mantap  \n",
              "2                                    layan hotel bersih  \n",
              "3                         nyaman inap layan muas kesini  \n",
              "4     kamar luas nyaman bersih pandang hotel bagus l...  \n",
              "...                                                 ...  \n",
              "2304  desain hotel bagus bau hotel lobi koridor kama...  \n",
              "2305                                   staf profesional  \n",
              "2306  suasana enak keluarga staf hotel oke layan bre...  \n",
              "2307  ruang luas staf bantu taman main tunggang kuda...  \n",
              "2308  tinggal bayi sadar hotel milik lift hotel teri...  \n",
              "\n",
              "[2309 rows x 11 columns]"
            ],
            "text/html": [
              "\n",
              "  <div id=\"df-161d1921-0087-4546-88e7-9a0f0f299fe4\">\n",
              "    <div class=\"colab-df-container\">\n",
              "      <div>\n",
              "<style scoped>\n",
              "    .dataframe tbody tr th:only-of-type {\n",
              "        vertical-align: middle;\n",
              "    }\n",
              "\n",
              "    .dataframe tbody tr th {\n",
              "        vertical-align: top;\n",
              "    }\n",
              "\n",
              "    .dataframe thead th {\n",
              "        text-align: right;\n",
              "    }\n",
              "</style>\n",
              "<table border=\"1\" class=\"dataframe\">\n",
              "  <thead>\n",
              "    <tr style=\"text-align: right;\">\n",
              "      <th></th>\n",
              "      <th>Unnamed: 0</th>\n",
              "      <th>Ulasan</th>\n",
              "      <th>Sentiment</th>\n",
              "      <th>Positive Probability</th>\n",
              "      <th>Negative Probability</th>\n",
              "      <th>clean</th>\n",
              "      <th>Case_Folding_&amp;_Clean_Emoji</th>\n",
              "      <th>slang_word</th>\n",
              "      <th>Tokenizing</th>\n",
              "      <th>Filtering</th>\n",
              "      <th>Stemming</th>\n",
              "    </tr>\n",
              "  </thead>\n",
              "  <tbody>\n",
              "    <tr>\n",
              "      <th>0</th>\n",
              "      <td>0</td>\n",
              "      <td>Fasilitas hotel bagus, kamar mewah, protokol k...</td>\n",
              "      <td>Positive</td>\n",
              "      <td>0.300709</td>\n",
              "      <td>0.209502</td>\n",
              "      <td>Fasilitas hotel bagus kamar mewah protokol kov...</td>\n",
              "      <td>fasilitas hotel bagus kamar mewah protokol kov...</td>\n",
              "      <td>fasilitas hotel bagus kamar mewah protokol kov...</td>\n",
              "      <td>['fasilitas', 'hotel', 'bagus', 'kamar', 'mewa...</td>\n",
              "      <td>['fasilitas', 'hotel', 'bagus', 'kamar', 'mewa...</td>\n",
              "      <td>fasilitas hotel bagus kamar mewah protokol kov...</td>\n",
              "    </tr>\n",
              "    <tr>\n",
              "      <th>1</th>\n",
              "      <td>1</td>\n",
              "      <td>Makanan enak dan harga sangat terjangkau, mantap?</td>\n",
              "      <td>Positive</td>\n",
              "      <td>0.304822</td>\n",
              "      <td>0.171673</td>\n",
              "      <td>Makanan enak dan harga sangat terjangkau mantap</td>\n",
              "      <td>makanan enak dan harga sangat terjangkau mantap</td>\n",
              "      <td>makanan enak dan harga sangat terjangkau mantap</td>\n",
              "      <td>['makanan', 'enak', 'dan', 'harga', 'sangat', ...</td>\n",
              "      <td>['makanan', 'enak', 'harga', 'terjangkau', 'ma...</td>\n",
              "      <td>makan enak harga jangkau mantap</td>\n",
              "    </tr>\n",
              "    <tr>\n",
              "      <th>2</th>\n",
              "      <td>2</td>\n",
              "      <td>Pelayanan hotel sangat baik, kebersihan sangat...</td>\n",
              "      <td>Positive</td>\n",
              "      <td>0.273015</td>\n",
              "      <td>0.174779</td>\n",
              "      <td>Pelayanan hotel sangat baik kebersihan sangat ...</td>\n",
              "      <td>pelayanan hotel sangat baik kebersihan sangat ...</td>\n",
              "      <td>pelayanan hotel sangat baik kebersihan sangat ...</td>\n",
              "      <td>['pelayanan', 'hotel', 'sangat', 'baik', 'kebe...</td>\n",
              "      <td>['pelayanan', 'hotel', 'kebersihan']</td>\n",
              "      <td>layan hotel bersih</td>\n",
              "    </tr>\n",
              "    <tr>\n",
              "      <th>3</th>\n",
              "      <td>3</td>\n",
              "      <td>Nyaman sekali menginap walaupun hanya satu har...</td>\n",
              "      <td>Positive</td>\n",
              "      <td>0.319150</td>\n",
              "      <td>0.160811</td>\n",
              "      <td>Nyaman sekali menginap walaupun hanya satu har...</td>\n",
              "      <td>nyaman sekali menginap walaupun hanya satu har...</td>\n",
              "      <td>nyaman sekali menginap walaupun hanya satu har...</td>\n",
              "      <td>['nyaman', 'sekali', 'menginap', 'walaupun', '...</td>\n",
              "      <td>['nyaman', 'menginap', 'pelayanannya', 'memuas...</td>\n",
              "      <td>nyaman inap layan muas kesini</td>\n",
              "    </tr>\n",
              "    <tr>\n",
              "      <th>4</th>\n",
              "      <td>4</td>\n",
              "      <td>Kamarnya luas nyaman dan bersih, pemandangan h...</td>\n",
              "      <td>Positive</td>\n",
              "      <td>0.302786</td>\n",
              "      <td>0.188203</td>\n",
              "      <td>Kamarnya luas nyaman dan bersih pemandangan ho...</td>\n",
              "      <td>kamarnya luas nyaman dan bersih pemandangan ho...</td>\n",
              "      <td>kamarnya luas nyaman dan bersih pemandangan ho...</td>\n",
              "      <td>['kamarnya', 'luas', 'nyaman', 'dan', 'bersih'...</td>\n",
              "      <td>['kamarnya', 'luas', 'nyaman', 'bersih', 'pema...</td>\n",
              "      <td>kamar luas nyaman bersih pandang hotel bagus l...</td>\n",
              "    </tr>\n",
              "    <tr>\n",
              "      <th>...</th>\n",
              "      <td>...</td>\n",
              "      <td>...</td>\n",
              "      <td>...</td>\n",
              "      <td>...</td>\n",
              "      <td>...</td>\n",
              "      <td>...</td>\n",
              "      <td>...</td>\n",
              "      <td>...</td>\n",
              "      <td>...</td>\n",
              "      <td>...</td>\n",
              "      <td>...</td>\n",
              "    </tr>\n",
              "    <tr>\n",
              "      <th>2304</th>\n",
              "      <td>2317</td>\n",
              "      <td>Desain hotel sangat bagus tapi bau di dalam ho...</td>\n",
              "      <td>Positive</td>\n",
              "      <td>0.230125</td>\n",
              "      <td>0.215672</td>\n",
              "      <td>Desain hotel sangat bagus tapi bau di dalam ho...</td>\n",
              "      <td>desain hotel sangat bagus tapi bau di dalam ho...</td>\n",
              "      <td>desain hotel sangat bagus tapi bau di dalam ho...</td>\n",
              "      <td>['desain', 'hotel', 'sangat', 'bagus', 'tapi',...</td>\n",
              "      <td>['desain', 'hotel', 'bagus', 'bau', 'hotel', '...</td>\n",
              "      <td>desain hotel bagus bau hotel lobi koridor kama...</td>\n",
              "    </tr>\n",
              "    <tr>\n",
              "      <th>2305</th>\n",
              "      <td>2318</td>\n",
              "      <td>Stafnya kurang profesional. 👎</td>\n",
              "      <td>Positive</td>\n",
              "      <td>0.307536</td>\n",
              "      <td>0.142843</td>\n",
              "      <td>Stafnya kurang profesional 👎</td>\n",
              "      <td>stafnya kurang profesional</td>\n",
              "      <td>stafnya kurang profesional</td>\n",
              "      <td>['stafnya', 'kurang', 'profesional']</td>\n",
              "      <td>['stafnya', 'profesional']</td>\n",
              "      <td>staf profesional</td>\n",
              "    </tr>\n",
              "    <tr>\n",
              "      <th>2306</th>\n",
              "      <td>2319</td>\n",
              "      <td>Suasananya enak buat keluarga. Staf hotel oke ...</td>\n",
              "      <td>Positive</td>\n",
              "      <td>0.282238</td>\n",
              "      <td>0.200469</td>\n",
              "      <td>Suasananya enak buat keluarga Staf hotel oke s...</td>\n",
              "      <td>suasananya enak buat keluarga staf hotel oke s...</td>\n",
              "      <td>suasananya enak buat keluarga staf hotel oke s...</td>\n",
              "      <td>['suasananya', 'enak', 'buat', 'keluarga', 'st...</td>\n",
              "      <td>['suasananya', 'enak', 'keluarga', 'staf', 'ho...</td>\n",
              "      <td>suasana enak keluarga staf hotel oke layan bre...</td>\n",
              "    </tr>\n",
              "    <tr>\n",
              "      <th>2307</th>\n",
              "      <td>2320</td>\n",
              "      <td>Ruangan itu luas, staf sangat membantu, taman ...</td>\n",
              "      <td>Positive</td>\n",
              "      <td>0.277079</td>\n",
              "      <td>0.183748</td>\n",
              "      <td>Ruangan itu luas staf sangat membantu taman be...</td>\n",
              "      <td>ruangan itu luas staf sangat membantu taman be...</td>\n",
              "      <td>ruangan itu luas staf sangat membantu taman be...</td>\n",
              "      <td>['ruangan', 'itu', 'luas', 'staf', 'sangat', '...</td>\n",
              "      <td>['ruangan', 'luas', 'staf', 'membantu', 'taman...</td>\n",
              "      <td>ruang luas staf bantu taman main tunggang kuda...</td>\n",
              "    </tr>\n",
              "    <tr>\n",
              "      <th>2308</th>\n",
              "      <td>2321</td>\n",
              "      <td>Kami tinggal di sini dengan dua bayi kami ... ...</td>\n",
              "      <td>Negative</td>\n",
              "      <td>0.215482</td>\n",
              "      <td>0.273641</td>\n",
              "      <td>Kami tinggal di sini dengan dua bayi kami dan ...</td>\n",
              "      <td>kami tinggal di sini dengan dua bayi kami dan ...</td>\n",
              "      <td>kami tinggal di sini dengan dua bayi kami dan ...</td>\n",
              "      <td>['kami', 'tinggal', 'di', 'sini', 'dengan', 'd...</td>\n",
              "      <td>['tinggal', 'bayi', 'menyadari', 'hotel', 'mem...</td>\n",
              "      <td>tinggal bayi sadar hotel milik lift hotel teri...</td>\n",
              "    </tr>\n",
              "  </tbody>\n",
              "</table>\n",
              "<p>2309 rows × 11 columns</p>\n",
              "</div>\n",
              "      <button class=\"colab-df-convert\" onclick=\"convertToInteractive('df-161d1921-0087-4546-88e7-9a0f0f299fe4')\"\n",
              "              title=\"Convert this dataframe to an interactive table.\"\n",
              "              style=\"display:none;\">\n",
              "        \n",
              "  <svg xmlns=\"http://www.w3.org/2000/svg\" height=\"24px\"viewBox=\"0 0 24 24\"\n",
              "       width=\"24px\">\n",
              "    <path d=\"M0 0h24v24H0V0z\" fill=\"none\"/>\n",
              "    <path d=\"M18.56 5.44l.94 2.06.94-2.06 2.06-.94-2.06-.94-.94-2.06-.94 2.06-2.06.94zm-11 1L8.5 8.5l.94-2.06 2.06-.94-2.06-.94L8.5 2.5l-.94 2.06-2.06.94zm10 10l.94 2.06.94-2.06 2.06-.94-2.06-.94-.94-2.06-.94 2.06-2.06.94z\"/><path d=\"M17.41 7.96l-1.37-1.37c-.4-.4-.92-.59-1.43-.59-.52 0-1.04.2-1.43.59L10.3 9.45l-7.72 7.72c-.78.78-.78 2.05 0 2.83L4 21.41c.39.39.9.59 1.41.59.51 0 1.02-.2 1.41-.59l7.78-7.78 2.81-2.81c.8-.78.8-2.07 0-2.86zM5.41 20L4 18.59l7.72-7.72 1.47 1.35L5.41 20z\"/>\n",
              "  </svg>\n",
              "      </button>\n",
              "      \n",
              "  <style>\n",
              "    .colab-df-container {\n",
              "      display:flex;\n",
              "      flex-wrap:wrap;\n",
              "      gap: 12px;\n",
              "    }\n",
              "\n",
              "    .colab-df-convert {\n",
              "      background-color: #E8F0FE;\n",
              "      border: none;\n",
              "      border-radius: 50%;\n",
              "      cursor: pointer;\n",
              "      display: none;\n",
              "      fill: #1967D2;\n",
              "      height: 32px;\n",
              "      padding: 0 0 0 0;\n",
              "      width: 32px;\n",
              "    }\n",
              "\n",
              "    .colab-df-convert:hover {\n",
              "      background-color: #E2EBFA;\n",
              "      box-shadow: 0px 1px 2px rgba(60, 64, 67, 0.3), 0px 1px 3px 1px rgba(60, 64, 67, 0.15);\n",
              "      fill: #174EA6;\n",
              "    }\n",
              "\n",
              "    [theme=dark] .colab-df-convert {\n",
              "      background-color: #3B4455;\n",
              "      fill: #D2E3FC;\n",
              "    }\n",
              "\n",
              "    [theme=dark] .colab-df-convert:hover {\n",
              "      background-color: #434B5C;\n",
              "      box-shadow: 0px 1px 3px 1px rgba(0, 0, 0, 0.15);\n",
              "      filter: drop-shadow(0px 1px 2px rgba(0, 0, 0, 0.3));\n",
              "      fill: #FFFFFF;\n",
              "    }\n",
              "  </style>\n",
              "\n",
              "      <script>\n",
              "        const buttonEl =\n",
              "          document.querySelector('#df-161d1921-0087-4546-88e7-9a0f0f299fe4 button.colab-df-convert');\n",
              "        buttonEl.style.display =\n",
              "          google.colab.kernel.accessAllowed ? 'block' : 'none';\n",
              "\n",
              "        async function convertToInteractive(key) {\n",
              "          const element = document.querySelector('#df-161d1921-0087-4546-88e7-9a0f0f299fe4');\n",
              "          const dataTable =\n",
              "            await google.colab.kernel.invokeFunction('convertToInteractive',\n",
              "                                                     [key], {});\n",
              "          if (!dataTable) return;\n",
              "\n",
              "          const docLinkHtml = 'Like what you see? Visit the ' +\n",
              "            '<a target=\"_blank\" href=https://colab.research.google.com/notebooks/data_table.ipynb>data table notebook</a>'\n",
              "            + ' to learn more about interactive tables.';\n",
              "          element.innerHTML = '';\n",
              "          dataTable['output_type'] = 'display_data';\n",
              "          await google.colab.output.renderOutput(dataTable, element);\n",
              "          const docLink = document.createElement('div');\n",
              "          docLink.innerHTML = docLinkHtml;\n",
              "          element.appendChild(docLink);\n",
              "        }\n",
              "      </script>\n",
              "    </div>\n",
              "  </div>\n",
              "  "
            ]
          },
          "metadata": {},
          "execution_count": 3
        }
      ]
    },
    {
      "cell_type": "code",
      "source": [
        "# Melihat perbandingan Label\n",
        "data.Sentiment.value_counts()"
      ],
      "metadata": {
        "colab": {
          "base_uri": "https://localhost:8080/"
        },
        "id": "qTLsfYhsd4RF",
        "outputId": "73bf654d-60b4-4222-be55-9d1d28fab8b8"
      },
      "execution_count": null,
      "outputs": [
        {
          "output_type": "execute_result",
          "data": {
            "text/plain": [
              "Positive    2101\n",
              "Negative     208\n",
              "Name: Sentiment, dtype: int64"
            ]
          },
          "metadata": {},
          "execution_count": 4
        }
      ]
    },
    {
      "cell_type": "markdown",
      "source": [
        "TF-IDF (Term Frequency-Inverse Document Frequency) adalah sebuah metode yang digunakan dalam analisis teks untuk mengevaluasi pentingnya sebuah kata dalam suatu dokumen atau korpus berdasarkan frekuensi kemunculannya dan sebarannya di seluruh dokumen.\n",
        "\n",
        "Dalam konteks analisis sentimen, TF-IDF digunakan untuk menghitung tingkat kepentingan kata-kata dalam teks yang berkaitan dengan sentimen yang ingin dianalisis (misalnya, positif atau negatif). Metode ini membantu dalam mengidentifikasi kata-kata kunci yang paling berperan dalam membentuk sentimen dalam teks.\n",
        "\n",
        "Secara umum, TF-IDF terdiri dari dua komponen utama:\n",
        "\n",
        "1. Term Frequency (TF): Merupakan pengukuran frekuensi kemunculan suatu kata dalam teks. Frekuensi ini dapat dihitung menggunakan metode sederhana seperti menghitung jumlah kata yang muncul dalam teks atau menggunakan metode yang lebih kompleks seperti skema pembobotan logaritmik untuk menekankan kata-kata yang muncul lebih sering.\n",
        "\n",
        "2. Inverse Document Frequency (IDF): Merupakan pengukuran sejauh mana kata tersebut umum atau jarang muncul di seluruh korpus teks yang dianalisis. IDF digunakan untuk memberikan bobot yang lebih tinggi pada kata-kata yang jarang muncul, sehingga kata-kata tersebut dianggap lebih penting dalam analisis sentimen.\n",
        "\n",
        "Dengan menggabungkan komponen TF dan IDF, nilai TF-IDF untuk suatu kata dapat dihitung dengan mengalikan frekuensi kemunculan kata tersebut (TF) dengan bobot invers dari frekuensi dokumen kata tersebut (IDF). Kata-kata dengan nilai TF-IDF yang tinggi dianggap lebih relevan dan berperan penting dalam analisis sentimen.\n",
        "\n",
        "Penggunaan TF-IDF dalam analisis sentimen membantu dalam mengidentifikasi kata-kata kunci yang paling signifikan dalam membentuk sentimen dalam teks. Kata-kata dengan nilai TF-IDF tinggi sering kali memiliki pengaruh yang lebih besar terhadap penentuan sentimen suatu teks."
      ],
      "metadata": {
        "id": "Uti5u6WP1UIa"
      }
    },
    {
      "cell_type": "code",
      "source": [
        "# Pisahkan Data\n",
        "X = data['Stemming']\n",
        "y = data['Sentiment']\n",
        "\n",
        "# Feature Engineering dengan TF-IDF\n",
        "vectorizer = TfidfVectorizer()\n",
        "X = vectorizer.fit_transform(X)\n",
        "\n",
        "# Split Data\n",
        "X_train, X_test, y_train, y_test = train_test_split(X, y, test_size=0.2, random_state=42) # Data Testing = 20% dan Data Training = 80%\n",
        "X_train.shape, X_test.shape, y_train.shape, y_test.shape"
      ],
      "metadata": {
        "id": "sGeQPrrrga8K",
        "colab": {
          "base_uri": "https://localhost:8080/"
        },
        "outputId": "2807b04f-280d-4b29-c373-18a851bf6686"
      },
      "execution_count": null,
      "outputs": [
        {
          "output_type": "execute_result",
          "data": {
            "text/plain": [
              "((1847, 4096), (462, 4096), (1847,), (462,))"
            ]
          },
          "metadata": {},
          "execution_count": 6
        }
      ]
    },
    {
      "cell_type": "markdown",
      "source": [
        "Oversampling adalah salah satu metode yang digunakan dalam pemrosesan data tidak seimbang (imbalanced data) untuk menangani ketidakseimbangan kelas. Ketidakseimbangan kelas terjadi ketika jumlah sampel dalam satu kelas jauh lebih sedikit dibandingkan dengan kelas lainnya.\n",
        "\n",
        "SMOTE (Synthetic Minority Over-sampling Technique) adalah salah satu teknik oversampling yang umum digunakan. Metode ini bekerja dengan membuat sampel sintetis baru dari kelas minoritas dengan menggabungkan sampel-sampel yang sudah ada. SMOTE memilih beberapa sampel dari kelas minoritas dan menggabungkan mereka dengan tetangga-tetangga terdekat mereka. Dalam proses ini, SMOTE menghitung perbedaan antara sampel yang dipilih dan tetangga-tetangganya, dan kemudian menghasilkan sampel sintetis baru dengan menggabungkan fitur-fitur dari sampel yang dipilih dengan penyesuaian proporsional terhadap perbedaan tersebut.\n",
        "\n",
        "Dengan menggunakan SMOTE, jumlah sampel dalam kelas minoritas dapat ditingkatkan secara sintetis sehingga mencapai tingkat kesetimbangan yang lebih baik dengan kelas mayoritas. Hal ini membantu mengurangi bias yang mungkin terjadi saat melatih model pada data yang tidak seimbang.\n",
        "\n",
        "Penerapan SMOTE dalam pemrosesan data dapat dilakukan dengan menggunakan library atau paket khusus seperti imbalanced-learn di Python, yang menyediakan implementasi SMOTE dan metode-metode oversampling lainnya."
      ],
      "metadata": {
        "id": "ABEHqj8610kV"
      }
    },
    {
      "cell_type": "code",
      "source": [
        "# Membuat objek SMOTE dengan parameter yang diatur\n",
        "smote = SMOTE(sampling_strategy='auto', k_neighbors=5, random_state=42)\n",
        "X_train_resampled, y_train_resampled = smote.fit_resample(X_train, y_train)\n",
        "X_train_resampled.shape, y_train_resampled.shape"
      ],
      "metadata": {
        "colab": {
          "base_uri": "https://localhost:8080/"
        },
        "id": "zYA0VNO3gjKR",
        "outputId": "0327cb96-fc13-4ab0-d58f-6f7fdb8ab09f"
      },
      "execution_count": null,
      "outputs": [
        {
          "output_type": "execute_result",
          "data": {
            "text/plain": [
              "((3368, 4096), (3368,))"
            ]
          },
          "metadata": {},
          "execution_count": 7
        }
      ]
    },
    {
      "cell_type": "markdown",
      "source": [
        "Code yang diberikan adalah implementasi SMOTE pada data training untuk melakukan oversampling. Berikut adalah penjelasan dari code dan hasilnya:\n",
        "\n",
        "1. `smote = SMOTE(sampling_strategy='auto', k_neighbors=5, random_state=42)`: Membuat objek SMOTE dengan parameter yang telah diatur. Parameter `sampling_strategy='auto'` mengindikasikan bahwa kita ingin menyesuaikan jumlah sampel dari kelas minoritas secara otomatis. Parameter `k_neighbors=5` menentukan jumlah tetangga yang akan digunakan untuk menghasilkan sampel sintetis baru. Parameter `random_state=42` digunakan untuk menghasilkan hasil yang konsisten secara acak.\n",
        "\n",
        "2. `X_train_resampled, y_train_resampled = smote.fit_resample(X_train, y_train)`: Melakukan proses oversampling menggunakan metode SMOTE. Data training yang tidak seimbang (X_train dan y_train) digunakan sebagai input. Metode `fit_resample()` akan menghasilkan data training baru yang sudah diresampling. Hasilnya disimpan dalam variabel `X_train_resampled` dan `y_train_resampled`.\n",
        "\n",
        "3. `X_train_resampled.shape, y_train_resampled.shape`: Menampilkan bentuk (shape) dari data training yang sudah diresampling. Dalam contoh ini, hasilnya adalah ((3368, 4096), (3368,)), yang berarti setelah resampling, jumlah sampel dalam data training menjadi 3368 dan jumlah fitur (kolom) menjadi 4096. Juga, bentuk dari vektor label y_train_resampled adalah (3368,), menunjukkan bahwa jumlah sampelnya juga menjadi 3368.\n",
        "\n",
        "Dengan melakukan oversampling menggunakan SMOTE, jumlah sampel dalam kelas minoritas (sentimen negatif) telah ditingkatkan sehingga lebih seimbang dengan kelas mayoritas (sentimen positif). Hal ini akan membantu meningkatkan performa model dalam mengenali kelas minoritas dan mengurangi bias yang mungkin terjadi."
      ],
      "metadata": {
        "id": "Ench1nxn2a9r"
      }
    },
    {
      "cell_type": "code",
      "source": [
        "# Membuat Model Random Forest\n",
        "model = RandomForestClassifier(random_state=42)\n",
        "model.fit(X_train_resampled, y_train_resampled)"
      ],
      "metadata": {
        "colab": {
          "base_uri": "https://localhost:8080/",
          "height": 74
        },
        "id": "flAOeIlme2ql",
        "outputId": "123aa499-28fc-467f-f76a-24b4975128e2"
      },
      "execution_count": null,
      "outputs": [
        {
          "output_type": "execute_result",
          "data": {
            "text/plain": [
              "RandomForestClassifier(random_state=42)"
            ],
            "text/html": [
              "<style>#sk-container-id-2 {color: black;background-color: white;}#sk-container-id-2 pre{padding: 0;}#sk-container-id-2 div.sk-toggleable {background-color: white;}#sk-container-id-2 label.sk-toggleable__label {cursor: pointer;display: block;width: 100%;margin-bottom: 0;padding: 0.3em;box-sizing: border-box;text-align: center;}#sk-container-id-2 label.sk-toggleable__label-arrow:before {content: \"▸\";float: left;margin-right: 0.25em;color: #696969;}#sk-container-id-2 label.sk-toggleable__label-arrow:hover:before {color: black;}#sk-container-id-2 div.sk-estimator:hover label.sk-toggleable__label-arrow:before {color: black;}#sk-container-id-2 div.sk-toggleable__content {max-height: 0;max-width: 0;overflow: hidden;text-align: left;background-color: #f0f8ff;}#sk-container-id-2 div.sk-toggleable__content pre {margin: 0.2em;color: black;border-radius: 0.25em;background-color: #f0f8ff;}#sk-container-id-2 input.sk-toggleable__control:checked~div.sk-toggleable__content {max-height: 200px;max-width: 100%;overflow: auto;}#sk-container-id-2 input.sk-toggleable__control:checked~label.sk-toggleable__label-arrow:before {content: \"▾\";}#sk-container-id-2 div.sk-estimator input.sk-toggleable__control:checked~label.sk-toggleable__label {background-color: #d4ebff;}#sk-container-id-2 div.sk-label input.sk-toggleable__control:checked~label.sk-toggleable__label {background-color: #d4ebff;}#sk-container-id-2 input.sk-hidden--visually {border: 0;clip: rect(1px 1px 1px 1px);clip: rect(1px, 1px, 1px, 1px);height: 1px;margin: -1px;overflow: hidden;padding: 0;position: absolute;width: 1px;}#sk-container-id-2 div.sk-estimator {font-family: monospace;background-color: #f0f8ff;border: 1px dotted black;border-radius: 0.25em;box-sizing: border-box;margin-bottom: 0.5em;}#sk-container-id-2 div.sk-estimator:hover {background-color: #d4ebff;}#sk-container-id-2 div.sk-parallel-item::after {content: \"\";width: 100%;border-bottom: 1px solid gray;flex-grow: 1;}#sk-container-id-2 div.sk-label:hover label.sk-toggleable__label {background-color: #d4ebff;}#sk-container-id-2 div.sk-serial::before {content: \"\";position: absolute;border-left: 1px solid gray;box-sizing: border-box;top: 0;bottom: 0;left: 50%;z-index: 0;}#sk-container-id-2 div.sk-serial {display: flex;flex-direction: column;align-items: center;background-color: white;padding-right: 0.2em;padding-left: 0.2em;position: relative;}#sk-container-id-2 div.sk-item {position: relative;z-index: 1;}#sk-container-id-2 div.sk-parallel {display: flex;align-items: stretch;justify-content: center;background-color: white;position: relative;}#sk-container-id-2 div.sk-item::before, #sk-container-id-2 div.sk-parallel-item::before {content: \"\";position: absolute;border-left: 1px solid gray;box-sizing: border-box;top: 0;bottom: 0;left: 50%;z-index: -1;}#sk-container-id-2 div.sk-parallel-item {display: flex;flex-direction: column;z-index: 1;position: relative;background-color: white;}#sk-container-id-2 div.sk-parallel-item:first-child::after {align-self: flex-end;width: 50%;}#sk-container-id-2 div.sk-parallel-item:last-child::after {align-self: flex-start;width: 50%;}#sk-container-id-2 div.sk-parallel-item:only-child::after {width: 0;}#sk-container-id-2 div.sk-dashed-wrapped {border: 1px dashed gray;margin: 0 0.4em 0.5em 0.4em;box-sizing: border-box;padding-bottom: 0.4em;background-color: white;}#sk-container-id-2 div.sk-label label {font-family: monospace;font-weight: bold;display: inline-block;line-height: 1.2em;}#sk-container-id-2 div.sk-label-container {text-align: center;}#sk-container-id-2 div.sk-container {/* jupyter's `normalize.less` sets `[hidden] { display: none; }` but bootstrap.min.css set `[hidden] { display: none !important; }` so we also need the `!important` here to be able to override the default hidden behavior on the sphinx rendered scikit-learn.org. See: https://github.com/scikit-learn/scikit-learn/issues/21755 */display: inline-block !important;position: relative;}#sk-container-id-2 div.sk-text-repr-fallback {display: none;}</style><div id=\"sk-container-id-2\" class=\"sk-top-container\"><div class=\"sk-text-repr-fallback\"><pre>RandomForestClassifier(random_state=42)</pre><b>In a Jupyter environment, please rerun this cell to show the HTML representation or trust the notebook. <br />On GitHub, the HTML representation is unable to render, please try loading this page with nbviewer.org.</b></div><div class=\"sk-container\" hidden><div class=\"sk-item\"><div class=\"sk-estimator sk-toggleable\"><input class=\"sk-toggleable__control sk-hidden--visually\" id=\"sk-estimator-id-2\" type=\"checkbox\" checked><label for=\"sk-estimator-id-2\" class=\"sk-toggleable__label sk-toggleable__label-arrow\">RandomForestClassifier</label><div class=\"sk-toggleable__content\"><pre>RandomForestClassifier(random_state=42)</pre></div></div></div></div></div>"
            ]
          },
          "metadata": {},
          "execution_count": 11
        }
      ]
    },
    {
      "cell_type": "code",
      "source": [
        "# Prediksi Model\n",
        "y_pred = model.predict(X_test)\n",
        "y_pred"
      ],
      "metadata": {
        "id": "aw23-TCwfAAk",
        "colab": {
          "base_uri": "https://localhost:8080/"
        },
        "outputId": "79a04139-2717-4eaa-8bdc-0fa09aaa2381"
      },
      "execution_count": null,
      "outputs": [
        {
          "output_type": "execute_result",
          "data": {
            "text/plain": [
              "array(['Positive', 'Positive', 'Positive', 'Positive', 'Positive',\n",
              "       'Positive', 'Positive', 'Positive', 'Positive', 'Positive',\n",
              "       'Positive', 'Positive', 'Positive', 'Positive', 'Positive',\n",
              "       'Positive', 'Positive', 'Positive', 'Positive', 'Positive',\n",
              "       'Positive', 'Positive', 'Positive', 'Positive', 'Positive',\n",
              "       'Positive', 'Positive', 'Positive', 'Positive', 'Positive',\n",
              "       'Positive', 'Positive', 'Positive', 'Positive', 'Positive',\n",
              "       'Positive', 'Positive', 'Positive', 'Positive', 'Positive',\n",
              "       'Positive', 'Positive', 'Positive', 'Positive', 'Positive',\n",
              "       'Positive', 'Positive', 'Positive', 'Positive', 'Positive',\n",
              "       'Positive', 'Positive', 'Positive', 'Positive', 'Positive',\n",
              "       'Positive', 'Positive', 'Positive', 'Positive', 'Positive',\n",
              "       'Positive', 'Positive', 'Positive', 'Positive', 'Positive',\n",
              "       'Positive', 'Positive', 'Positive', 'Positive', 'Negative',\n",
              "       'Positive', 'Positive', 'Positive', 'Positive', 'Positive',\n",
              "       'Positive', 'Positive', 'Positive', 'Positive', 'Positive',\n",
              "       'Positive', 'Positive', 'Positive', 'Positive', 'Positive',\n",
              "       'Positive', 'Positive', 'Positive', 'Positive', 'Positive',\n",
              "       'Positive', 'Positive', 'Positive', 'Positive', 'Positive',\n",
              "       'Positive', 'Positive', 'Positive', 'Positive', 'Positive',\n",
              "       'Positive', 'Positive', 'Positive', 'Positive', 'Positive',\n",
              "       'Positive', 'Positive', 'Positive', 'Positive', 'Positive',\n",
              "       'Positive', 'Positive', 'Positive', 'Positive', 'Positive',\n",
              "       'Positive', 'Positive', 'Positive', 'Positive', 'Positive',\n",
              "       'Positive', 'Positive', 'Positive', 'Positive', 'Positive',\n",
              "       'Positive', 'Positive', 'Positive', 'Positive', 'Positive',\n",
              "       'Positive', 'Positive', 'Positive', 'Positive', 'Positive',\n",
              "       'Positive', 'Positive', 'Positive', 'Positive', 'Positive',\n",
              "       'Positive', 'Positive', 'Positive', 'Positive', 'Positive',\n",
              "       'Positive', 'Positive', 'Positive', 'Positive', 'Positive',\n",
              "       'Positive', 'Positive', 'Positive', 'Positive', 'Positive',\n",
              "       'Positive', 'Positive', 'Positive', 'Positive', 'Positive',\n",
              "       'Positive', 'Positive', 'Positive', 'Positive', 'Positive',\n",
              "       'Positive', 'Positive', 'Positive', 'Positive', 'Positive',\n",
              "       'Positive', 'Positive', 'Positive', 'Positive', 'Positive',\n",
              "       'Positive', 'Positive', 'Negative', 'Positive', 'Positive',\n",
              "       'Positive', 'Positive', 'Positive', 'Positive', 'Positive',\n",
              "       'Positive', 'Positive', 'Positive', 'Positive', 'Positive',\n",
              "       'Positive', 'Positive', 'Positive', 'Positive', 'Positive',\n",
              "       'Positive', 'Positive', 'Positive', 'Positive', 'Positive',\n",
              "       'Positive', 'Positive', 'Positive', 'Positive', 'Positive',\n",
              "       'Positive', 'Positive', 'Positive', 'Positive', 'Positive',\n",
              "       'Positive', 'Positive', 'Positive', 'Positive', 'Positive',\n",
              "       'Positive', 'Positive', 'Positive', 'Positive', 'Positive',\n",
              "       'Positive', 'Positive', 'Positive', 'Positive', 'Positive',\n",
              "       'Positive', 'Positive', 'Positive', 'Positive', 'Positive',\n",
              "       'Positive', 'Positive', 'Positive', 'Positive', 'Positive',\n",
              "       'Positive', 'Positive', 'Positive', 'Positive', 'Positive',\n",
              "       'Positive', 'Positive', 'Positive', 'Positive', 'Positive',\n",
              "       'Positive', 'Positive', 'Positive', 'Positive', 'Positive',\n",
              "       'Positive', 'Positive', 'Positive', 'Positive', 'Positive',\n",
              "       'Positive', 'Positive', 'Positive', 'Positive', 'Positive',\n",
              "       'Positive', 'Positive', 'Positive', 'Positive', 'Positive',\n",
              "       'Positive', 'Positive', 'Positive', 'Positive', 'Positive',\n",
              "       'Positive', 'Positive', 'Positive', 'Positive', 'Negative',\n",
              "       'Positive', 'Positive', 'Positive', 'Positive', 'Positive',\n",
              "       'Positive', 'Positive', 'Positive', 'Positive', 'Positive',\n",
              "       'Positive', 'Positive', 'Positive', 'Positive', 'Positive',\n",
              "       'Positive', 'Positive', 'Positive', 'Positive', 'Positive',\n",
              "       'Positive', 'Positive', 'Positive', 'Positive', 'Positive',\n",
              "       'Positive', 'Positive', 'Positive', 'Positive', 'Positive',\n",
              "       'Positive', 'Positive', 'Positive', 'Positive', 'Positive',\n",
              "       'Positive', 'Positive', 'Positive', 'Positive', 'Positive',\n",
              "       'Positive', 'Positive', 'Positive', 'Positive', 'Positive',\n",
              "       'Positive', 'Negative', 'Positive', 'Positive', 'Positive',\n",
              "       'Positive', 'Positive', 'Positive', 'Positive', 'Positive',\n",
              "       'Positive', 'Negative', 'Positive', 'Positive', 'Positive',\n",
              "       'Positive', 'Positive', 'Positive', 'Positive', 'Positive',\n",
              "       'Positive', 'Positive', 'Positive', 'Negative', 'Positive',\n",
              "       'Positive', 'Negative', 'Positive', 'Positive', 'Positive',\n",
              "       'Positive', 'Positive', 'Positive', 'Positive', 'Positive',\n",
              "       'Positive', 'Positive', 'Positive', 'Positive', 'Positive',\n",
              "       'Positive', 'Positive', 'Positive', 'Positive', 'Positive',\n",
              "       'Positive', 'Positive', 'Positive', 'Positive', 'Positive',\n",
              "       'Positive', 'Positive', 'Positive', 'Positive', 'Positive',\n",
              "       'Positive', 'Positive', 'Positive', 'Positive', 'Positive',\n",
              "       'Positive', 'Positive', 'Positive', 'Positive', 'Positive',\n",
              "       'Positive', 'Positive', 'Positive', 'Positive', 'Positive',\n",
              "       'Positive', 'Positive', 'Positive', 'Positive', 'Positive',\n",
              "       'Positive', 'Positive', 'Positive', 'Positive', 'Positive',\n",
              "       'Positive', 'Positive', 'Positive', 'Positive', 'Positive',\n",
              "       'Positive', 'Positive', 'Positive', 'Positive', 'Positive',\n",
              "       'Positive', 'Positive', 'Positive', 'Positive', 'Positive',\n",
              "       'Positive', 'Positive', 'Positive', 'Positive', 'Positive',\n",
              "       'Positive', 'Positive', 'Negative', 'Positive', 'Positive',\n",
              "       'Positive', 'Positive', 'Positive', 'Positive', 'Positive',\n",
              "       'Positive', 'Positive', 'Positive', 'Positive', 'Positive',\n",
              "       'Positive', 'Positive', 'Negative', 'Positive', 'Positive',\n",
              "       'Positive', 'Positive', 'Positive', 'Positive', 'Positive',\n",
              "       'Positive', 'Positive', 'Positive', 'Positive', 'Positive',\n",
              "       'Positive', 'Positive', 'Positive', 'Positive', 'Positive',\n",
              "       'Positive', 'Positive', 'Positive', 'Positive', 'Positive',\n",
              "       'Positive', 'Positive'], dtype=object)"
            ]
          },
          "metadata": {},
          "execution_count": 16
        }
      ]
    },
    {
      "cell_type": "code",
      "source": [
        "# Melihat Confusion Matriks\n",
        "cm = confusion_matrix(y_test, y_pred)\n",
        "print(\"Confusion Matrix:\")\n",
        "print(cm)\n"
      ],
      "metadata": {
        "colab": {
          "base_uri": "https://localhost:8080/"
        },
        "id": "3WWHU9TDe7OL",
        "outputId": "4558d850-1523-4fd2-a2c7-834cf3ecb059"
      },
      "execution_count": null,
      "outputs": [
        {
          "output_type": "stream",
          "name": "stdout",
          "text": [
            "Confusion Matrix:\n",
            "[[  8  37]\n",
            " [  1 416]]\n"
          ]
        }
      ]
    },
    {
      "cell_type": "code",
      "source": [
        "# Menghasilkan classification report\n",
        "classification_rep = classification_report(y_test, y_pred)\n",
        "\n",
        "# Menampilkan classification report\n",
        "print(\"Classification Report:\")\n",
        "print(classification_rep)"
      ],
      "metadata": {
        "colab": {
          "base_uri": "https://localhost:8080/"
        },
        "id": "7ZE7XAL77S5l",
        "outputId": "ad74770a-470e-40a6-c527-f9e9a9bc7148"
      },
      "execution_count": null,
      "outputs": [
        {
          "output_type": "stream",
          "name": "stdout",
          "text": [
            "Classification Report:\n",
            "              precision    recall  f1-score   support\n",
            "\n",
            "    Negative       0.89      0.18      0.30        45\n",
            "    Positive       0.92      1.00      0.96       417\n",
            "\n",
            "    accuracy                           0.92       462\n",
            "   macro avg       0.90      0.59      0.63       462\n",
            "weighted avg       0.92      0.92      0.89       462\n",
            "\n"
          ]
        }
      ]
    },
    {
      "cell_type": "code",
      "source": [
        "# Melihat hasil Evalusasi Dari Pos Label Positif\n",
        "accuracy = accuracy_score(y_test, y_pred)\n",
        "precision = precision_score(y_test, y_pred, pos_label='Positive')\n",
        "recall = recall_score(y_test, y_pred, pos_label='Positive')\n",
        "f_score = f1_score(y_test, y_pred, pos_label='Positive')\n",
        "\n",
        "print(\"Accuracy: {:.2f}\".format(accuracy))\n",
        "print(\"Precision: {:.2f}\".format(precision))\n",
        "print(\"Recall: {:.2f}\".format(recall))\n",
        "print(\"F-score: {:.2f}\".format(f_score))\n"
      ],
      "metadata": {
        "colab": {
          "base_uri": "https://localhost:8080/"
        },
        "id": "_Two3uLgfFuZ",
        "outputId": "732f24ca-9bca-4653-c1a0-d77bb64f6c86"
      },
      "execution_count": null,
      "outputs": [
        {
          "output_type": "stream",
          "name": "stdout",
          "text": [
            "Accuracy: 0.92\n",
            "Precision: 0.92\n",
            "Recall: 1.00\n",
            "F-score: 0.96\n"
          ]
        }
      ]
    },
    {
      "cell_type": "code",
      "source": [
        "# # Melihat hasil Evalusasi Dari Pos Label Negatif\n",
        "accuracy = accuracy_score(y_test, y_pred)\n",
        "precision = precision_score(y_test, y_pred, pos_label='Negative')\n",
        "recall = recall_score(y_test, y_pred, pos_label='Negative')\n",
        "f_score = f1_score(y_test, y_pred, pos_label='Negative')\n",
        "\n",
        "print(\"Accuracy: {:.2f}\".format(accuracy))\n",
        "print(\"Precision: {:.2f}\".format(precision))\n",
        "print(\"Recall: {:.2f}\".format(recall))\n",
        "print(\"F-score: {:.2f}\".format(f_score))"
      ],
      "metadata": {
        "colab": {
          "base_uri": "https://localhost:8080/"
        },
        "id": "W2l3VlycfKZa",
        "outputId": "d33ac1a0-b613-4fae-98d8-7beff9fb74e0"
      },
      "execution_count": null,
      "outputs": [
        {
          "output_type": "stream",
          "name": "stdout",
          "text": [
            "Accuracy: 0.92\n",
            "Precision: 0.89\n",
            "Recall: 0.18\n",
            "F-score: 0.30\n"
          ]
        }
      ]
    }
  ]
}